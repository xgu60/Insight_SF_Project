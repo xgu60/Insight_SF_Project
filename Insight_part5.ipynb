{
 "cells": [
  {
   "cell_type": "code",
   "execution_count": 10,
   "metadata": {},
   "outputs": [
    {
     "data": {
      "text/plain": [
       "(1, 4096)"
      ]
     },
     "execution_count": 10,
     "metadata": {},
     "output_type": "execute_result"
    }
   ],
   "source": [
    "#prediction using model parameters\n",
    "%matplotlib inline\n",
    "from rdkit import Chem, DataStructs\n",
    "from rdkit.Chem import AllChem\n",
    "from rdkit.Chem import Draw\n",
    "import numpy as np \n",
    "import pandas as pd \n",
    "import matplotlib.pyplot as plt\n",
    "from sklearn.externals import joblib\n",
    "\n",
    "def feature(smiles):\n",
    "\t#compute features from smiles\n",
    "\ttry:\n",
    "\t\tarr = np.zeros((1, ))\n",
    "\t\tcompound = Chem.MolFromSmiles(smiles)\n",
    "\t\tfp = AllChem.GetMorganFingerprintAsBitVect(compound, 3, 4096)\n",
    "\t\tDataStructs.ConvertToNumpyArray(fp, arr)\n",
    "\texcept:\n",
    "\t\tprint(\"Error in featurizing smile!\")\n",
    "\t\t\n",
    "\t\n",
    "\t\n",
    "\treturn arr\n",
    "\n",
    "\n",
    "\n",
    "res = feature(\"CCCCOC(=O)C1=CC=C(C=C1)N\")\n",
    "res.shape\n",
    "res = res.reshape(1, -1)\n",
    "res.shape"
   ]
  },
  {
   "cell_type": "code",
   "execution_count": 14,
   "metadata": {},
   "outputs": [
    {
     "data": {
      "text/plain": [
       "array([[ 0.8020001,  0.1979999]])"
      ]
     },
     "execution_count": 14,
     "metadata": {},
     "output_type": "execute_result"
    }
   ],
   "source": [
    "model = joblib.load('svm.pkl')\n",
    "pred = model.predict_proba(res)\n",
    "pred"
   ]
  },
  {
   "cell_type": "code",
   "execution_count": null,
   "metadata": {},
   "outputs": [],
   "source": []
  }
 ],
 "metadata": {
  "kernelspec": {
   "display_name": "Python 3",
   "language": "python",
   "name": "python3"
  },
  "language_info": {
   "codemirror_mode": {
    "name": "ipython",
    "version": 3
   },
   "file_extension": ".py",
   "mimetype": "text/x-python",
   "name": "python",
   "nbconvert_exporter": "python",
   "pygments_lexer": "ipython3",
   "version": "3.6.2"
  }
 },
 "nbformat": 4,
 "nbformat_minor": 2
}
