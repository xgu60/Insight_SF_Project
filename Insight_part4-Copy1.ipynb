{
 "cells": [
  {
   "cell_type": "markdown",
   "metadata": {},
   "source": [
    "## Insight project: part 4.1\n",
    "### learning curve for auc"
   ]
  },
  {
   "cell_type": "code",
   "execution_count": 15,
   "metadata": {},
   "outputs": [],
   "source": [
    "#apply logistic regression on training data\n",
    "%matplotlib inline\n",
    "import numpy as np\n",
    "import pandas as pd\n",
    "import matplotlib.pyplot as plt\n",
    "from sklearn.linear_model import LogisticRegression\n",
    "from sklearn.ensemble import RandomForestClassifier\n",
    "from sklearn.svm import SVC\n",
    "from sklearn.metrics import confusion_matrix, roc_curve, roc_auc_score, precision_recall_curve\n",
    "from sklearn.externals import joblib"
   ]
  },
  {
   "cell_type": "code",
   "execution_count": 16,
   "metadata": {},
   "outputs": [
    {
     "name": "stdout",
     "output_type": "stream",
     "text": [
      "(708, 4098) (126, 4098)\n"
     ]
    }
   ],
   "source": [
    "#read data\n",
    "train = pd.read_csv('data/train.csv', index_col=False)\n",
    "test = pd.read_csv('data/test.csv', index_col=False)\n",
    "print(train.shape, test.shape)\n",
    "#test.head()\n"
   ]
  },
  {
   "cell_type": "code",
   "execution_count": 17,
   "metadata": {},
   "outputs": [
    {
     "name": "stdout",
     "output_type": "stream",
     "text": [
      "0.1 0.668503377177 0.659793814433 0.27763953075\n",
      "0.2 0.715961606825 0.789726270885 0.771418414504\n",
      "0.3 0.736935655883 0.760931389975 0.791325986491\n",
      "0.4 0.77070742979 0.765730536793 0.781016708141\n",
      "0.5 0.697831496623 0.778350515464 0.776039815144\n",
      "0.6 0.680412371134 0.758976182012 0.769996445076\n",
      "0.7 0.694276573054 0.754710273729 0.763953075009\n",
      "0.8 0.714895129755 0.784038393175 0.782438677568\n",
      "0.9 0.76501955208 0.773195876289 0.811589050835\n",
      "1.0 0.773195876289 0.759687166726 0.822964806257\n"
     ]
    },
    {
     "data": {
      "text/html": [
       "<div>\n",
       "<style scoped>\n",
       "    .dataframe tbody tr th:only-of-type {\n",
       "        vertical-align: middle;\n",
       "    }\n",
       "\n",
       "    .dataframe tbody tr th {\n",
       "        vertical-align: top;\n",
       "    }\n",
       "\n",
       "    .dataframe thead th {\n",
       "        text-align: right;\n",
       "    }\n",
       "</style>\n",
       "<table border=\"1\" class=\"dataframe\">\n",
       "  <thead>\n",
       "    <tr style=\"text-align: right;\">\n",
       "      <th></th>\n",
       "      <th>perc</th>\n",
       "      <th>lr</th>\n",
       "      <th>rf</th>\n",
       "      <th>svm</th>\n",
       "    </tr>\n",
       "  </thead>\n",
       "  <tbody>\n",
       "    <tr>\n",
       "      <th>0</th>\n",
       "      <td>0.1</td>\n",
       "      <td>0.668503</td>\n",
       "      <td>0.659794</td>\n",
       "      <td>0.277640</td>\n",
       "    </tr>\n",
       "    <tr>\n",
       "      <th>1</th>\n",
       "      <td>0.2</td>\n",
       "      <td>0.715962</td>\n",
       "      <td>0.789726</td>\n",
       "      <td>0.771418</td>\n",
       "    </tr>\n",
       "    <tr>\n",
       "      <th>2</th>\n",
       "      <td>0.3</td>\n",
       "      <td>0.736936</td>\n",
       "      <td>0.760931</td>\n",
       "      <td>0.791326</td>\n",
       "    </tr>\n",
       "    <tr>\n",
       "      <th>3</th>\n",
       "      <td>0.4</td>\n",
       "      <td>0.770707</td>\n",
       "      <td>0.765731</td>\n",
       "      <td>0.781017</td>\n",
       "    </tr>\n",
       "    <tr>\n",
       "      <th>4</th>\n",
       "      <td>0.5</td>\n",
       "      <td>0.697831</td>\n",
       "      <td>0.778351</td>\n",
       "      <td>0.776040</td>\n",
       "    </tr>\n",
       "    <tr>\n",
       "      <th>5</th>\n",
       "      <td>0.6</td>\n",
       "      <td>0.680412</td>\n",
       "      <td>0.758976</td>\n",
       "      <td>0.769996</td>\n",
       "    </tr>\n",
       "    <tr>\n",
       "      <th>6</th>\n",
       "      <td>0.7</td>\n",
       "      <td>0.694277</td>\n",
       "      <td>0.754710</td>\n",
       "      <td>0.763953</td>\n",
       "    </tr>\n",
       "    <tr>\n",
       "      <th>7</th>\n",
       "      <td>0.8</td>\n",
       "      <td>0.714895</td>\n",
       "      <td>0.784038</td>\n",
       "      <td>0.782439</td>\n",
       "    </tr>\n",
       "    <tr>\n",
       "      <th>8</th>\n",
       "      <td>0.9</td>\n",
       "      <td>0.765020</td>\n",
       "      <td>0.773196</td>\n",
       "      <td>0.811589</td>\n",
       "    </tr>\n",
       "    <tr>\n",
       "      <th>9</th>\n",
       "      <td>1.0</td>\n",
       "      <td>0.773196</td>\n",
       "      <td>0.759687</td>\n",
       "      <td>0.822965</td>\n",
       "    </tr>\n",
       "  </tbody>\n",
       "</table>\n",
       "</div>"
      ],
      "text/plain": [
       "   perc        lr        rf       svm\n",
       "0   0.1  0.668503  0.659794  0.277640\n",
       "1   0.2  0.715962  0.789726  0.771418\n",
       "2   0.3  0.736936  0.760931  0.791326\n",
       "3   0.4  0.770707  0.765731  0.781017\n",
       "4   0.5  0.697831  0.778351  0.776040\n",
       "5   0.6  0.680412  0.758976  0.769996\n",
       "6   0.7  0.694277  0.754710  0.763953\n",
       "7   0.8  0.714895  0.784038  0.782439\n",
       "8   0.9  0.765020  0.773196  0.811589\n",
       "9   1.0  0.773196  0.759687  0.822965"
      ]
     },
     "execution_count": 17,
     "metadata": {},
     "output_type": "execute_result"
    }
   ],
   "source": [
    "#learning curve\n",
    "auc_scores = pd.DataFrame(columns=['perc', 'lr', 'rf', 'svm'])\n",
    "perc = np.arange(10) / 10 + 0.1\n",
    "\n",
    "for i in range(10):\n",
    "    end = int(len(train) * perc[i])\n",
    "    \n",
    "    #logistic regression\n",
    "    lr = LogisticRegression(penalty='l1', C=5, tol=0.01, class_weight={1:3, 0:1})\n",
    "    lr.fit(train.iloc[:end, 2:], train.iloc[:end, 1])\n",
    "    lr_pred = lr.predict_proba(test.iloc[:, 2:])\n",
    "    lr_auc_score = roc_auc_score(test.iloc[:, 1], lr_pred[:, 1])\n",
    "\n",
    "    #random forest\n",
    "    rf = RandomForestClassifier(n_estimators=60, criterion='gini', max_features='sqrt', max_depth=None, \n",
    "                                min_samples_split=2, min_samples_leaf=1, \n",
    "                                min_weight_fraction_leaf=0.0, max_leaf_nodes=None, \n",
    "                                min_impurity_decrease=0.0, min_impurity_split=None, bootstrap=True, \n",
    "                                oob_score=False, n_jobs=-1, random_state=6, verbose=0, warm_start=False,\n",
    "                                class_weight={1:3, 0:1})\n",
    "    rf.fit(train.iloc[:end, 2:].values, train.iloc[:end, 1].values)\n",
    "    rf_pred = rf.predict_proba(test.iloc[:, 2:].values)\n",
    "    rf_auc_score = roc_auc_score(test.iloc[:, 1].values, rf_pred[:, 1])\n",
    "\n",
    "    #support machine\n",
    "    model = SVC(C=6, probability=True, random_state=6, class_weight={1:3, 0:1})\n",
    "    model.fit(train.iloc[:end, 2:].values, train.iloc[:end, 1].values)\n",
    "    svm_pred = model.predict_proba(test.iloc[:, 2:].values)\n",
    "    svm_auc_score = roc_auc_score(test.iloc[:, 1].values, svm_pred[:, 1])\n",
    "    \n",
    "    print(perc[i], lr_auc_score, rf_auc_score, svm_auc_score)\n",
    "    \n",
    "    auc_scores.loc[i] = [perc[i], lr_auc_score, rf_auc_score, svm_auc_score]\n",
    "auc_scores\n"
   ]
  },
  {
   "cell_type": "code",
   "execution_count": 18,
   "metadata": {},
   "outputs": [
    {
     "data": {
      "text/plain": [
       "<matplotlib.legend.Legend at 0x7efd85fff1d0>"
      ]
     },
     "execution_count": 18,
     "metadata": {},
     "output_type": "execute_result"
    },
    {
     "data": {
      "image/png": "[encoded data removed]",
      "text/plain": [
       "<matplotlib.figure.Figure at 0x7efd863eb0b8>"
      ]
     },
     "metadata": {},
     "output_type": "display_data"
    }
   ],
   "source": [
    "#plot learning curve\n",
    "plt.subplots_adjust(left=0.1, bottom=0.1, right=1.2, top=1.5, wspace=0.2, hspace=0.2)\n",
    "plt.xlabel(\"train percentile\", fontsize=20)\n",
    "plt.ylabel(\"auc score\", fontsize=20)\n",
    "plt.xlim(-0.02, 1.02)\n",
    "plt.ylim(-0.02, 1.02)\n",
    "plt.plot(perc, auc_scores['lr'], c='g', linewidth=2.0, label=\"Logistic Regression\")\n",
    "plt.plot(perc, auc_scores['rf'], c='b', linewidth=2.0, label=\"Random Forest\")\n",
    "plt.plot(perc, auc_scores['svm'], c='k', linewidth=2.0, label=\"Support Vector Machine\")\n",
    "#plt.plot([0, 1], [0, 1], c='r', linewidth=1.0)\n",
    "#plt.scatter(randon_fpr, randon_tpr, c='r', s=15, edgecolors='None', alpha=0.5)\n",
    "plt.legend(loc=\"upper left\", frameon=False)"
   ]
  },
  {
   "cell_type": "code",
   "execution_count": null,
   "metadata": {},
   "outputs": [],
   "source": []
  },
  {
   "cell_type": "code",
   "execution_count": null,
   "metadata": {},
   "outputs": [],
   "source": []
  },
  {
   "cell_type": "code",
   "execution_count": null,
   "metadata": {},
   "outputs": [],
   "source": []
  },
  {
   "cell_type": "code",
   "execution_count": null,
   "metadata": {},
   "outputs": [],
   "source": []
  },
  {
   "cell_type": "code",
   "execution_count": null,
   "metadata": {},
   "outputs": [],
   "source": []
  },
  {
   "cell_type": "code",
   "execution_count": null,
   "metadata": {},
   "outputs": [],
   "source": []
  },
  {
   "cell_type": "code",
   "execution_count": null,
   "metadata": {},
   "outputs": [],
   "source": []
  },
  {
   "cell_type": "code",
   "execution_count": null,
   "metadata": {},
   "outputs": [],
   "source": []
  }
 ],
 "metadata": {
  "kernelspec": {
   "display_name": "Python 3",
   "language": "python",
   "name": "python3"
  },
  "language_info": {
   "codemirror_mode": {
    "name": "ipython",
    "version": 3
   },
   "file_extension": ".py",
   "mimetype": "text/x-python",
   "name": "python",
   "nbconvert_exporter": "python",
   "pygments_lexer": "ipython3",
   "version": "3.6.2"
  }
 },
 "nbformat": 4,
 "nbformat_minor": 2
}
