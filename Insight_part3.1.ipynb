{
 "cells": [
  {
   "cell_type": "markdown",
   "metadata": {},
   "source": [
    "## Insight project: part 3.1\n",
    "### Random Forest"
   ]
  },
  {
   "cell_type": "code",
   "execution_count": 1,
   "metadata": {},
   "outputs": [],
   "source": [
    "#apply logistic regression on training data\n",
    "%matplotlib inline\n",
    "import numpy as np\n",
    "import pandas as pd\n",
    "import matplotlib.pyplot as plt\n",
    "from sklearn.ensemble import RandomForestClassifier\n",
    "from sklearn.linear_model import LogisticRegression\n",
    "from sklearn.metrics import precision_score, recall_score, f1_score, roc_curve, roc_auc_score"
   ]
  },
  {
   "cell_type": "code",
   "execution_count": 2,
   "metadata": {},
   "outputs": [
    {
     "name": "stdout",
     "output_type": "stream",
     "text": [
      "(566, 4098)\n",
      "(142, 4098)\n",
      "                    Unnamed: 0  hits    0    1    2    3    4    5    6    7  \\\n",
      "660               Azaguanine-8     1  0.0  0.0  0.0  0.0  0.0  0.0  0.0  0.0   \n",
      "649  Ondansetron Hydrochloride     0  0.0  0.0  0.0  0.0  0.0  0.0  0.0  0.0   \n",
      "505             Chlorothiazide     0  0.0  0.0  0.0  0.0  0.0  0.0  0.0  0.0   \n",
      "575                Bromperidol     1  0.0  0.0  0.0  0.0  0.0  0.0  0.0  0.0   \n",
      "231               Quinethazone     0  0.0  0.0  0.0  0.0  0.0  0.0  0.0  0.0   \n",
      "\n",
      "     ...   4086  4087  4088  4089  4090  4091  4092  4093  4094  4095  \n",
      "660  ...    0.0   0.0   0.0   0.0   0.0   0.0   0.0   0.0   0.0   0.0  \n",
      "649  ...    0.0   0.0   0.0   0.0   0.0   0.0   0.0   0.0   0.0   0.0  \n",
      "505  ...    0.0   0.0   0.0   0.0   0.0   0.0   0.0   0.0   0.0   0.0  \n",
      "575  ...    0.0   0.0   0.0   0.0   0.0   0.0   0.0   0.0   0.0   0.0  \n",
      "231  ...    0.0   0.0   0.0   0.0   0.0   0.0   0.0   0.0   0.0   0.0  \n",
      "\n",
      "[5 rows x 4098 columns]\n"
     ]
    }
   ],
   "source": [
    "#read data, apply 80:20 split for train vs validation\n",
    "data = pd.read_csv('data/train.csv', index_col=False)\n",
    "data = data.sample(frac=1, random_state=1)\n",
    "train = data[:int(len(data) * 0.8)]\n",
    "val = data[int(len(data) * 0.8):]\n",
    "print(train.shape)\n",
    "print(val.shape)\n",
    "#print(train.head())\n",
    "print(val.head())"
   ]
  },
  {
   "cell_type": "code",
   "execution_count": 3,
   "metadata": {},
   "outputs": [],
   "source": [
    "# #test logistic regression model by accuracy\n",
    "# ne = np.arange(10, 500, 50)\n",
    "# val_accuracy = []\n",
    "# val_precision = []\n",
    "# val_recall = []\n",
    "# val_f1 = []\n",
    "# auc_scores = []\n",
    "# for i in ne:  \n",
    "#     rf = RandomForestClassifier(n_estimators=i, criterion='gini', max_features='sqrt', max_depth=None, \n",
    "#                                 min_samples_split=2, min_samples_leaf=1, \n",
    "#                                 min_weight_fraction_leaf=0.0, max_leaf_nodes=None, \n",
    "#                                 min_impurity_decrease=0.0, min_impurity_split=None, bootstrap=True, \n",
    "#                                 oob_score=False, n_jobs=-1, random_state=6, verbose=0, warm_start=False,\n",
    "#                                 class_weight={1:3, 0:1})\n",
    "#     rf.fit(train.iloc[:, 2:].values, train.iloc[:, 1].values)    \n",
    "#     val_accuracy.append(rf.score(val.iloc[:, 2:].values, val.iloc[:, 1].values))\n",
    "#     val_pred = rf.predict(val.iloc[:, 2:].values)    \n",
    "#     val_precision.append(precision_score(val.iloc[:, 1].values, val_pred))\n",
    "#     val_recall.append(recall_score(val.iloc[:, 1].values, val_pred))\n",
    "#     val_f1.append(f1_score(val.iloc[:, 1].values, val_pred))\n",
    "#     val_pred_proba = rf.predict_proba(val.iloc[:, 2:].values)\n",
    "#     auc_scores.append(roc_auc_score(val.iloc[:, 1].values, val_pred_proba[:, 1]))\n",
    "\n",
    "# plt.subplots_adjust(left=0.1, bottom=0.1, right=1.5, top=2, wspace=0.3, hspace=0.3)\n",
    "# plt.subplot(231)\n",
    "# plt.title('accuracy')\n",
    "# plt.ylabel('score')\n",
    "# plt.xlabel('n_estimators')\n",
    "# plt.ylim(0,1)\n",
    "# plt.scatter(ne, val_accuracy)\n",
    "# plt.subplot(232)\n",
    "# plt.title('precision')\n",
    "# plt.xlabel('n_estimators')\n",
    "# plt.ylim(0,1)\n",
    "# plt.scatter(ne, val_precision)\n",
    "# plt.subplot(233)\n",
    "# plt.title('recall')\n",
    "# plt.ylabel('score')\n",
    "# plt.xlabel('n_estimators')\n",
    "# plt.ylim(0,1)\n",
    "# plt.scatter(ne, val_recall)\n",
    "# plt.subplot(234)\n",
    "# plt.title('f1_score')\n",
    "# plt.xlabel('n_estimators')\n",
    "# plt.ylim(0,1)\n",
    "# plt.scatter(ne, val_f1)\n",
    "# plt.subplot(235)\n",
    "# plt.title('auc_score')\n",
    "# plt.xlabel('n_estimators')\n",
    "# plt.ylim(0.5,1)\n",
    "# plt.scatter(ne, auc_scores)"
   ]
  },
  {
   "cell_type": "code",
   "execution_count": 4,
   "metadata": {},
   "outputs": [
    {
     "name": "stdout",
     "output_type": "stream",
     "text": [
      "auc_score: 0.7468599033816425\n"
     ]
    },
    {
     "data": {
      "text/plain": [
       "[<matplotlib.lines.Line2D at 0x7f581d02add8>]"
      ]
     },
     "execution_count": 4,
     "metadata": {},
     "output_type": "execute_result"
    },
    {
     "data": {
      "image/png": "[encoded data removed]",
      "text/plain": [
       "<matplotlib.figure.Figure at 0x7f581d02afd0>"
      ]
     },
     "metadata": {},
     "output_type": "display_data"
    }
   ],
   "source": [
    "#roc curve\n",
    "rf = RandomForestClassifier(n_estimators=60, criterion='gini', max_features='sqrt', max_depth=None, \n",
    "                                min_samples_split=2, min_samples_leaf=1, \n",
    "                                min_weight_fraction_leaf=0.0, max_leaf_nodes=None, \n",
    "                                min_impurity_decrease=0.0, min_impurity_split=None, bootstrap=True, \n",
    "                                oob_score=False, n_jobs=-1, random_state=6, verbose=0, warm_start=False,\n",
    "                                class_weight={1:3, 0:1})\n",
    "rf.fit(train.iloc[:, 2:].values, train.iloc[:, 1].values)\n",
    "pred = rf.predict_proba(val.iloc[:, 2:].values)\n",
    "auc_score = roc_auc_score(val.iloc[:, 1].values, pred[:, 1])\n",
    "fpr, tpr, thresholds = roc_curve(val.iloc[:, 1].values, pred[:, 1])\n",
    "\n",
    "print('auc_score: {}'.format(auc_score))\n",
    "\n",
    "#plot auc curve\n",
    "plt.xlabel(\"false positive rate\")\n",
    "plt.ylabel(\"true positive rate\")\n",
    "plt.xlim(0, 1)\n",
    "plt.ylim(0, 1)\n",
    "plt.plot(fpr, tpr, c='b', linewidth=2)\n",
    "plt.plot([0, 1], [0, 1], c='r', linewidth=1)"
   ]
  },
  {
   "cell_type": "code",
   "execution_count": 5,
   "metadata": {},
   "outputs": [
    {
     "data": {
      "text/plain": [
       "(array([  2.74900000e+03,   5.56000000e+02,   2.71000000e+02,\n",
       "          1.63000000e+02,   1.03000000e+02,   6.30000000e+01,\n",
       "          5.40000000e+01,   3.10000000e+01,   1.80000000e+01,\n",
       "          1.80000000e+01,   1.40000000e+01,   1.50000000e+01,\n",
       "          7.00000000e+00,   9.00000000e+00,   7.00000000e+00,\n",
       "          3.00000000e+00,   3.00000000e+00,   1.00000000e+00,\n",
       "          3.00000000e+00,   4.00000000e+00,   1.00000000e+00,\n",
       "          1.00000000e+00,   0.00000000e+00,   0.00000000e+00,\n",
       "          0.00000000e+00,   1.00000000e+00,   0.00000000e+00,\n",
       "          0.00000000e+00,   0.00000000e+00,   1.00000000e+00]),\n",
       " array([ 0.        ,  0.00019123,  0.00038246,  0.00057369,  0.00076492,\n",
       "         0.00095615,  0.00114738,  0.00133861,  0.00152984,  0.00172107,\n",
       "         0.0019123 ,  0.00210353,  0.00229476,  0.00248599,  0.00267722,\n",
       "         0.00286845,  0.00305968,  0.00325091,  0.00344214,  0.00363337,\n",
       "         0.0038246 ,  0.00401582,  0.00420705,  0.00439828,  0.00458951,\n",
       "         0.00478074,  0.00497197,  0.0051632 ,  0.00535443,  0.00554566,\n",
       "         0.00573689]),\n",
       " <a list of 30 Patch objects>)"
      ]
     },
     "execution_count": 5,
     "metadata": {},
     "output_type": "execute_result"
    },
    {
     "data": {
      "image/png": "[encoded data removed]",
      "text/plain": [
       "<matplotlib.figure.Figure at 0x7f581c2da1d0>"
      ]
     },
     "metadata": {},
     "output_type": "display_data"
    }
   ],
   "source": [
    "rf.feature_importances_\n",
    "plt.hist(np.abs(rf.feature_importances_), bins=30)\n"
   ]
  },
  {
   "cell_type": "code",
   "execution_count": 6,
   "metadata": {},
   "outputs": [
    {
     "data": {
      "text/plain": [
       "(239,)"
      ]
     },
     "execution_count": 6,
     "metadata": {},
     "output_type": "execute_result"
    }
   ],
   "source": [
    "index1 = np.where(np.abs(rf.feature_importances_) > 0.001)\n",
    "index1 = index1[0]\n",
    "index1.shape"
   ]
  },
  {
   "cell_type": "code",
   "execution_count": 7,
   "metadata": {},
   "outputs": [
    {
     "data": {
      "text/plain": [
       "array([  21,   32,   33,   41,   45,   69,   75,   90,   97,  116,  158,\n",
       "        159,  197,  202,  209,  216,  236,  287,  301,  309,  322,  335,\n",
       "        343,  350,  378,  389,  390,  397,  433,  496,  522,  561,  582,\n",
       "        610,  641,  656,  658,  673,  675,  695,  699,  703,  724,  745,\n",
       "        747,  807,  857,  868,  875,  885,  890,  917, 1028, 1030, 1042,\n",
       "       1088, 1101, 1128, 1132, 1160, 1167, 1184, 1189, 1236, 1256, 1297,\n",
       "       1310, 1313, 1321, 1325, 1359, 1361, 1365, 1380, 1409, 1430, 1448,\n",
       "       1453, 1458, 1471, 1480, 1485, 1508, 1550, 1572, 1581, 1618, 1627,\n",
       "       1630, 1652, 1662, 1683, 1746, 1855, 1877, 1917, 1921, 1928, 1947,\n",
       "       1950, 1951, 1956, 1963, 1969, 1970, 2004, 2005, 2032, 2049, 2059,\n",
       "       2106, 2128, 2162, 2213, 2242, 2255, 2270, 2279, 2300, 2301, 2331,\n",
       "       2334, 2340, 2342, 2349, 2362, 2367, 2381, 2383, 2388, 2391, 2400,\n",
       "       2414, 2416, 2419, 2435, 2437, 2439, 2440, 2509, 2532, 2534, 2551,\n",
       "       2599, 2611, 2625, 2635, 2640, 2698, 2709, 2715, 2742, 2749, 2763,\n",
       "       2784, 2792, 2801, 2828, 2835, 2855, 2857, 2879, 2893, 2936, 2945,\n",
       "       2946, 2974, 2983, 2995, 2997, 3010, 3050, 3067, 3082, 3084, 3099,\n",
       "       3118, 3145, 3162, 3200, 3206, 3219, 3235, 3242, 3243, 3247, 3257,\n",
       "       3282, 3303, 3307, 3308, 3314, 3340, 3362, 3366, 3367, 3385, 3418,\n",
       "       3421, 3429, 3433, 3436, 3456, 3462, 3495, 3502, 3504, 3530, 3535,\n",
       "       3556, 3603, 3605, 3633, 3665, 3696, 3707, 3754, 3756, 3759, 3765,\n",
       "       3787, 3793, 3798, 3802, 3816, 3826, 3839, 3880, 3901, 3914, 3921,\n",
       "       3923, 3960, 3968, 4000, 4008, 4064, 4091, 4092])"
      ]
     },
     "execution_count": 7,
     "metadata": {},
     "output_type": "execute_result"
    }
   ],
   "source": [
    "index1"
   ]
  },
  {
   "cell_type": "code",
   "execution_count": 8,
   "metadata": {},
   "outputs": [
    {
     "data": {
      "text/plain": [
       "(602,)"
      ]
     },
     "execution_count": 8,
     "metadata": {},
     "output_type": "execute_result"
    }
   ],
   "source": [
    "lr = LogisticRegression(penalty='l1', C=10, tol=0.01, class_weight={1:3, 0:1})\n",
    "lr.fit(train.iloc[:, 2:].values, train.iloc[:, 1].values)\n",
    "index2 = np.where(lr.coef_ != 0)[1]\n",
    "#index2 = index2.reshape(1, -1)\n",
    "np.shape(index2)"
   ]
  },
  {
   "cell_type": "code",
   "execution_count": 9,
   "metadata": {},
   "outputs": [
    {
     "data": {
      "text/plain": [
       "array([  21,   32,   33,   41,   45,   69,   75,   90,   97,  116,  158,\n",
       "        159,  197,  202,  209,  216,  236,  287,  301,  309,  322,  335,\n",
       "        343,  350,  378,  389,  390,  397,  433,  496,  522,  561,  582,\n",
       "        610,  641,  656,  658,  673,  675,  695,  699,  703,  724,  745,\n",
       "        747,  807,  857,  868,  875,  885,  890,  917, 1028, 1030, 1042,\n",
       "       1088, 1101, 1128, 1132, 1160, 1167, 1184, 1189, 1236, 1256, 1297,\n",
       "       1310, 1313, 1321, 1325, 1359, 1361, 1365, 1380, 1409, 1430, 1448,\n",
       "       1453, 1458, 1471, 1480, 1485, 1508, 1550, 1572, 1581, 1618, 1627,\n",
       "       1630, 1652, 1662, 1683, 1746, 1855, 1877, 1917, 1921, 1928, 1947,\n",
       "       1950, 1951, 1956, 1963, 1969, 1970, 2004, 2005, 2032, 2049, 2059,\n",
       "       2106, 2128, 2162, 2213, 2242, 2255, 2270, 2279, 2300, 2301, 2331,\n",
       "       2334, 2340, 2342, 2349, 2362, 2367, 2381, 2383, 2388, 2391, 2400,\n",
       "       2414, 2416, 2419, 2435, 2437, 2439, 2440, 2509, 2532, 2534, 2551,\n",
       "       2599, 2611, 2625, 2635, 2640, 2698, 2709, 2715, 2742, 2749, 2763,\n",
       "       2784, 2792, 2801, 2828, 2835, 2855, 2857, 2879, 2893, 2936, 2945,\n",
       "       2946, 2974, 2983, 2995, 2997, 3010, 3050, 3067, 3082, 3084, 3099,\n",
       "       3118, 3145, 3162, 3200, 3206, 3219, 3235, 3242, 3243, 3247, 3257,\n",
       "       3282, 3303, 3307, 3308, 3314, 3340, 3362, 3366, 3367, 3385, 3418,\n",
       "       3421, 3429, 3433, 3436, 3456, 3462, 3495, 3502, 3504, 3530, 3535,\n",
       "       3556, 3603, 3605, 3633, 3665, 3696, 3707, 3754, 3756, 3759, 3765,\n",
       "       3787, 3793, 3798, 3802, 3816, 3826, 3839, 3880, 3901, 3914, 3921,\n",
       "       3923, 3960, 3968, 4000, 4008, 4064, 4091, 4092])"
      ]
     },
     "execution_count": 9,
     "metadata": {},
     "output_type": "execute_result"
    }
   ],
   "source": [
    "index1"
   ]
  },
  {
   "cell_type": "code",
   "execution_count": 10,
   "metadata": {},
   "outputs": [
    {
     "data": {
      "text/plain": [
       "(170,)"
      ]
     },
     "execution_count": 10,
     "metadata": {},
     "output_type": "execute_result"
    }
   ],
   "source": [
    "intersect = np.intersect1d(index1, index2, True)\n",
    "intersect.shape"
   ]
  },
  {
   "cell_type": "code",
   "execution_count": 11,
   "metadata": {},
   "outputs": [
    {
     "data": {
      "text/plain": [
       "10"
      ]
     },
     "execution_count": 11,
     "metadata": {},
     "output_type": "execute_result"
    }
   ],
   "source": [
    "new_features = rf.feature_importances_[np.abs(rf.feature_importances_) > 0.0035]\n",
    "new_features.size"
   ]
  },
  {
   "cell_type": "code",
   "execution_count": 12,
   "metadata": {},
   "outputs": [
    {
     "data": {
      "text/plain": [
       "(array([ 5.,  2.,  1.,  0.,  0.,  1.,  0.,  0.,  0.,  1.]),\n",
       " array([ 0.00351142,  0.00373396,  0.00395651,  0.00417906,  0.00440161,\n",
       "         0.00462415,  0.0048467 ,  0.00506925,  0.0052918 ,  0.00551435,\n",
       "         0.00573689]),\n",
       " <a list of 10 Patch objects>)"
      ]
     },
     "execution_count": 12,
     "metadata": {},
     "output_type": "execute_result"
    },
    {
     "data": {
      "image/png": "[encoded data removed]",
      "text/plain": [
       "<matplotlib.figure.Figure at 0x7f581c4a1630>"
      ]
     },
     "metadata": {},
     "output_type": "display_data"
    }
   ],
   "source": [
    "plt.hist(new_features)"
   ]
  },
  {
   "cell_type": "code",
   "execution_count": 19,
   "metadata": {},
   "outputs": [
    {
     "data": {
      "text/plain": [
       "(array([ 343,  397,  561,  917, 2419, 2698, 2828, 3243, 3914, 3921]),)"
      ]
     },
     "execution_count": 19,
     "metadata": {},
     "output_type": "execute_result"
    }
   ],
   "source": [
    "index3 = np.where(rf.feature_importances_ > 0.0035)\n",
    "index3"
   ]
  },
  {
   "cell_type": "code",
   "execution_count": 20,
   "metadata": {},
   "outputs": [
    {
     "data": {
      "text/plain": [
       "array([ 0.00410343,  0.00573689,  0.00370932,  0.00365734,  0.00358784,\n",
       "        0.00387242,  0.00483697,  0.00380585,  0.0036845 ,  0.00351142])"
      ]
     },
     "execution_count": 20,
     "metadata": {},
     "output_type": "execute_result"
    }
   ],
   "source": [
    "rf.feature_importances_[index3]"
   ]
  },
  {
   "cell_type": "code",
   "execution_count": 21,
   "metadata": {},
   "outputs": [
    {
     "data": {
      "text/html": [
       "<div>\n",
       "<style scoped>\n",
       "    .dataframe tbody tr th:only-of-type {\n",
       "        vertical-align: middle;\n",
       "    }\n",
       "\n",
       "    .dataframe tbody tr th {\n",
       "        vertical-align: top;\n",
       "    }\n",
       "\n",
       "    .dataframe thead th {\n",
       "        text-align: right;\n",
       "    }\n",
       "</style>\n",
       "<table border=\"1\" class=\"dataframe\">\n",
       "  <thead>\n",
       "    <tr style=\"text-align: right;\">\n",
       "      <th></th>\n",
       "      <th>id</th>\n",
       "      <th>importance</th>\n",
       "    </tr>\n",
       "  </thead>\n",
       "  <tbody>\n",
       "    <tr>\n",
       "      <th>1</th>\n",
       "      <td>397</td>\n",
       "      <td>0.005737</td>\n",
       "    </tr>\n",
       "    <tr>\n",
       "      <th>6</th>\n",
       "      <td>2828</td>\n",
       "      <td>0.004837</td>\n",
       "    </tr>\n",
       "    <tr>\n",
       "      <th>0</th>\n",
       "      <td>343</td>\n",
       "      <td>0.004103</td>\n",
       "    </tr>\n",
       "    <tr>\n",
       "      <th>5</th>\n",
       "      <td>2698</td>\n",
       "      <td>0.003872</td>\n",
       "    </tr>\n",
       "    <tr>\n",
       "      <th>7</th>\n",
       "      <td>3243</td>\n",
       "      <td>0.003806</td>\n",
       "    </tr>\n",
       "    <tr>\n",
       "      <th>2</th>\n",
       "      <td>561</td>\n",
       "      <td>0.003709</td>\n",
       "    </tr>\n",
       "    <tr>\n",
       "      <th>8</th>\n",
       "      <td>3914</td>\n",
       "      <td>0.003685</td>\n",
       "    </tr>\n",
       "    <tr>\n",
       "      <th>3</th>\n",
       "      <td>917</td>\n",
       "      <td>0.003657</td>\n",
       "    </tr>\n",
       "    <tr>\n",
       "      <th>4</th>\n",
       "      <td>2419</td>\n",
       "      <td>0.003588</td>\n",
       "    </tr>\n",
       "    <tr>\n",
       "      <th>9</th>\n",
       "      <td>3921</td>\n",
       "      <td>0.003511</td>\n",
       "    </tr>\n",
       "  </tbody>\n",
       "</table>\n",
       "</div>"
      ],
      "text/plain": [
       "     id  importance\n",
       "1   397    0.005737\n",
       "6  2828    0.004837\n",
       "0   343    0.004103\n",
       "5  2698    0.003872\n",
       "7  3243    0.003806\n",
       "2   561    0.003709\n",
       "8  3914    0.003685\n",
       "3   917    0.003657\n",
       "4  2419    0.003588\n",
       "9  3921    0.003511"
      ]
     },
     "execution_count": 21,
     "metadata": {},
     "output_type": "execute_result"
    }
   ],
   "source": [
    "df = pd.DataFrame()\n",
    "df['id'] = index3[0]\n",
    "df['importance'] = rf.feature_importances_[index3]\n",
    "df = df.sort_values(by=['importance'], ascending=False)\n",
    "df"
   ]
  },
  {
   "cell_type": "code",
   "execution_count": 23,
   "metadata": {},
   "outputs": [
    {
     "data": {
      "image/png": "[encoded data removed]",
      "text/plain": [
       "<matplotlib.figure.Figure at 0x7f581b2bb470>"
      ]
     },
     "metadata": {},
     "output_type": "display_data"
    }
   ],
   "source": [
    "import seaborn as sns\n",
    "plt.subplots(figsize=(10, 6))\n",
    "ax = sns.barplot(x='id', y='importance', data=df, order=df['id'])\n",
    "ax.set_xlabel(\"feature id\", size=24)\n",
    "ax.set_ylabel(\"importance\", size=24)\n",
    "sns.despine()"
   ]
  },
  {
   "cell_type": "code",
   "execution_count": 17,
   "metadata": {},
   "outputs": [
    {
     "data": {
      "text/html": [
       "<div>\n",
       "<style scoped>\n",
       "    .dataframe tbody tr th:only-of-type {\n",
       "        vertical-align: middle;\n",
       "    }\n",
       "\n",
       "    .dataframe tbody tr th {\n",
       "        vertical-align: top;\n",
       "    }\n",
       "\n",
       "    .dataframe thead th {\n",
       "        text-align: right;\n",
       "    }\n",
       "</style>\n",
       "<table border=\"1\" class=\"dataframe\">\n",
       "  <thead>\n",
       "    <tr style=\"text-align: right;\">\n",
       "      <th></th>\n",
       "      <th>Unnamed: 0</th>\n",
       "      <th>hits</th>\n",
       "      <th>0</th>\n",
       "      <th>1</th>\n",
       "      <th>2</th>\n",
       "      <th>3</th>\n",
       "      <th>4</th>\n",
       "      <th>5</th>\n",
       "      <th>6</th>\n",
       "      <th>7</th>\n",
       "      <th>...</th>\n",
       "      <th>4086</th>\n",
       "      <th>4087</th>\n",
       "      <th>4088</th>\n",
       "      <th>4089</th>\n",
       "      <th>4090</th>\n",
       "      <th>4091</th>\n",
       "      <th>4092</th>\n",
       "      <th>4093</th>\n",
       "      <th>4094</th>\n",
       "      <th>4095</th>\n",
       "    </tr>\n",
       "  </thead>\n",
       "  <tbody>\n",
       "    <tr>\n",
       "      <th>631</th>\n",
       "      <td>Acemetacin</td>\n",
       "      <td>0</td>\n",
       "      <td>0.0</td>\n",
       "      <td>0.0</td>\n",
       "      <td>0.0</td>\n",
       "      <td>0.0</td>\n",
       "      <td>0.0</td>\n",
       "      <td>0.0</td>\n",
       "      <td>0.0</td>\n",
       "      <td>0.0</td>\n",
       "      <td>...</td>\n",
       "      <td>0.0</td>\n",
       "      <td>0.0</td>\n",
       "      <td>0.0</td>\n",
       "      <td>0.0</td>\n",
       "      <td>0.0</td>\n",
       "      <td>0.0</td>\n",
       "      <td>0.0</td>\n",
       "      <td>0.0</td>\n",
       "      <td>0.0</td>\n",
       "      <td>0.0</td>\n",
       "    </tr>\n",
       "    <tr>\n",
       "      <th>628</th>\n",
       "      <td>Carbenoxolone disodium salt</td>\n",
       "      <td>1</td>\n",
       "      <td>0.0</td>\n",
       "      <td>0.0</td>\n",
       "      <td>0.0</td>\n",
       "      <td>0.0</td>\n",
       "      <td>0.0</td>\n",
       "      <td>0.0</td>\n",
       "      <td>0.0</td>\n",
       "      <td>0.0</td>\n",
       "      <td>...</td>\n",
       "      <td>0.0</td>\n",
       "      <td>0.0</td>\n",
       "      <td>0.0</td>\n",
       "      <td>0.0</td>\n",
       "      <td>0.0</td>\n",
       "      <td>0.0</td>\n",
       "      <td>0.0</td>\n",
       "      <td>0.0</td>\n",
       "      <td>0.0</td>\n",
       "      <td>0.0</td>\n",
       "    </tr>\n",
       "    <tr>\n",
       "      <th>618</th>\n",
       "      <td>Amethopterin (R,S)</td>\n",
       "      <td>1</td>\n",
       "      <td>0.0</td>\n",
       "      <td>0.0</td>\n",
       "      <td>0.0</td>\n",
       "      <td>0.0</td>\n",
       "      <td>0.0</td>\n",
       "      <td>0.0</td>\n",
       "      <td>0.0</td>\n",
       "      <td>0.0</td>\n",
       "      <td>...</td>\n",
       "      <td>0.0</td>\n",
       "      <td>0.0</td>\n",
       "      <td>0.0</td>\n",
       "      <td>0.0</td>\n",
       "      <td>0.0</td>\n",
       "      <td>0.0</td>\n",
       "      <td>0.0</td>\n",
       "      <td>0.0</td>\n",
       "      <td>0.0</td>\n",
       "      <td>0.0</td>\n",
       "    </tr>\n",
       "    <tr>\n",
       "      <th>406</th>\n",
       "      <td>Spaglumic acid</td>\n",
       "      <td>0</td>\n",
       "      <td>0.0</td>\n",
       "      <td>0.0</td>\n",
       "      <td>0.0</td>\n",
       "      <td>0.0</td>\n",
       "      <td>0.0</td>\n",
       "      <td>0.0</td>\n",
       "      <td>0.0</td>\n",
       "      <td>0.0</td>\n",
       "      <td>...</td>\n",
       "      <td>0.0</td>\n",
       "      <td>0.0</td>\n",
       "      <td>0.0</td>\n",
       "      <td>0.0</td>\n",
       "      <td>0.0</td>\n",
       "      <td>0.0</td>\n",
       "      <td>0.0</td>\n",
       "      <td>0.0</td>\n",
       "      <td>0.0</td>\n",
       "      <td>0.0</td>\n",
       "    </tr>\n",
       "    <tr>\n",
       "      <th>608</th>\n",
       "      <td>Lansoprazole</td>\n",
       "      <td>1</td>\n",
       "      <td>0.0</td>\n",
       "      <td>0.0</td>\n",
       "      <td>0.0</td>\n",
       "      <td>0.0</td>\n",
       "      <td>0.0</td>\n",
       "      <td>0.0</td>\n",
       "      <td>0.0</td>\n",
       "      <td>0.0</td>\n",
       "      <td>...</td>\n",
       "      <td>0.0</td>\n",
       "      <td>0.0</td>\n",
       "      <td>0.0</td>\n",
       "      <td>0.0</td>\n",
       "      <td>0.0</td>\n",
       "      <td>0.0</td>\n",
       "      <td>0.0</td>\n",
       "      <td>0.0</td>\n",
       "      <td>0.0</td>\n",
       "      <td>0.0</td>\n",
       "    </tr>\n",
       "    <tr>\n",
       "      <th>2</th>\n",
       "      <td>Leflunomide</td>\n",
       "      <td>1</td>\n",
       "      <td>0.0</td>\n",
       "      <td>0.0</td>\n",
       "      <td>0.0</td>\n",
       "      <td>0.0</td>\n",
       "      <td>0.0</td>\n",
       "      <td>0.0</td>\n",
       "      <td>0.0</td>\n",
       "      <td>0.0</td>\n",
       "      <td>...</td>\n",
       "      <td>0.0</td>\n",
       "      <td>0.0</td>\n",
       "      <td>0.0</td>\n",
       "      <td>0.0</td>\n",
       "      <td>0.0</td>\n",
       "      <td>0.0</td>\n",
       "      <td>0.0</td>\n",
       "      <td>0.0</td>\n",
       "      <td>0.0</td>\n",
       "      <td>0.0</td>\n",
       "    </tr>\n",
       "    <tr>\n",
       "      <th>679</th>\n",
       "      <td>Norgestimate</td>\n",
       "      <td>1</td>\n",
       "      <td>0.0</td>\n",
       "      <td>0.0</td>\n",
       "      <td>0.0</td>\n",
       "      <td>0.0</td>\n",
       "      <td>0.0</td>\n",
       "      <td>0.0</td>\n",
       "      <td>0.0</td>\n",
       "      <td>0.0</td>\n",
       "      <td>...</td>\n",
       "      <td>0.0</td>\n",
       "      <td>0.0</td>\n",
       "      <td>0.0</td>\n",
       "      <td>0.0</td>\n",
       "      <td>0.0</td>\n",
       "      <td>0.0</td>\n",
       "      <td>0.0</td>\n",
       "      <td>0.0</td>\n",
       "      <td>0.0</td>\n",
       "      <td>0.0</td>\n",
       "    </tr>\n",
       "    <tr>\n",
       "      <th>464</th>\n",
       "      <td>Mebeverine hydrochloride</td>\n",
       "      <td>0</td>\n",
       "      <td>0.0</td>\n",
       "      <td>0.0</td>\n",
       "      <td>0.0</td>\n",
       "      <td>0.0</td>\n",
       "      <td>0.0</td>\n",
       "      <td>0.0</td>\n",
       "      <td>0.0</td>\n",
       "      <td>0.0</td>\n",
       "      <td>...</td>\n",
       "      <td>0.0</td>\n",
       "      <td>0.0</td>\n",
       "      <td>0.0</td>\n",
       "      <td>0.0</td>\n",
       "      <td>0.0</td>\n",
       "      <td>0.0</td>\n",
       "      <td>0.0</td>\n",
       "      <td>0.0</td>\n",
       "      <td>0.0</td>\n",
       "      <td>0.0</td>\n",
       "    </tr>\n",
       "    <tr>\n",
       "      <th>617</th>\n",
       "      <td>Folic acid</td>\n",
       "      <td>1</td>\n",
       "      <td>0.0</td>\n",
       "      <td>0.0</td>\n",
       "      <td>0.0</td>\n",
       "      <td>0.0</td>\n",
       "      <td>0.0</td>\n",
       "      <td>0.0</td>\n",
       "      <td>0.0</td>\n",
       "      <td>0.0</td>\n",
       "      <td>...</td>\n",
       "      <td>0.0</td>\n",
       "      <td>0.0</td>\n",
       "      <td>0.0</td>\n",
       "      <td>0.0</td>\n",
       "      <td>0.0</td>\n",
       "      <td>0.0</td>\n",
       "      <td>0.0</td>\n",
       "      <td>0.0</td>\n",
       "      <td>0.0</td>\n",
       "      <td>0.0</td>\n",
       "    </tr>\n",
       "    <tr>\n",
       "      <th>125</th>\n",
       "      <td>Omeprazole</td>\n",
       "      <td>1</td>\n",
       "      <td>0.0</td>\n",
       "      <td>0.0</td>\n",
       "      <td>0.0</td>\n",
       "      <td>0.0</td>\n",
       "      <td>0.0</td>\n",
       "      <td>0.0</td>\n",
       "      <td>0.0</td>\n",
       "      <td>0.0</td>\n",
       "      <td>...</td>\n",
       "      <td>0.0</td>\n",
       "      <td>0.0</td>\n",
       "      <td>0.0</td>\n",
       "      <td>0.0</td>\n",
       "      <td>0.0</td>\n",
       "      <td>0.0</td>\n",
       "      <td>0.0</td>\n",
       "      <td>0.0</td>\n",
       "      <td>0.0</td>\n",
       "      <td>0.0</td>\n",
       "    </tr>\n",
       "    <tr>\n",
       "      <th>28</th>\n",
       "      <td>Methiazole</td>\n",
       "      <td>1</td>\n",
       "      <td>0.0</td>\n",
       "      <td>0.0</td>\n",
       "      <td>0.0</td>\n",
       "      <td>0.0</td>\n",
       "      <td>0.0</td>\n",
       "      <td>0.0</td>\n",
       "      <td>0.0</td>\n",
       "      <td>0.0</td>\n",
       "      <td>...</td>\n",
       "      <td>0.0</td>\n",
       "      <td>0.0</td>\n",
       "      <td>0.0</td>\n",
       "      <td>0.0</td>\n",
       "      <td>0.0</td>\n",
       "      <td>0.0</td>\n",
       "      <td>0.0</td>\n",
       "      <td>0.0</td>\n",
       "      <td>0.0</td>\n",
       "      <td>0.0</td>\n",
       "    </tr>\n",
       "  </tbody>\n",
       "</table>\n",
       "<p>11 rows × 4098 columns</p>\n",
       "</div>"
      ],
      "text/plain": [
       "                      Unnamed: 0  hits    0    1    2    3    4    5    6  \\\n",
       "631                   Acemetacin     0  0.0  0.0  0.0  0.0  0.0  0.0  0.0   \n",
       "628  Carbenoxolone disodium salt     1  0.0  0.0  0.0  0.0  0.0  0.0  0.0   \n",
       "618           Amethopterin (R,S)     1  0.0  0.0  0.0  0.0  0.0  0.0  0.0   \n",
       "406               Spaglumic acid     0  0.0  0.0  0.0  0.0  0.0  0.0  0.0   \n",
       "608                 Lansoprazole     1  0.0  0.0  0.0  0.0  0.0  0.0  0.0   \n",
       "2                    Leflunomide     1  0.0  0.0  0.0  0.0  0.0  0.0  0.0   \n",
       "679                 Norgestimate     1  0.0  0.0  0.0  0.0  0.0  0.0  0.0   \n",
       "464     Mebeverine hydrochloride     0  0.0  0.0  0.0  0.0  0.0  0.0  0.0   \n",
       "617                   Folic acid     1  0.0  0.0  0.0  0.0  0.0  0.0  0.0   \n",
       "125                   Omeprazole     1  0.0  0.0  0.0  0.0  0.0  0.0  0.0   \n",
       "28                    Methiazole     1  0.0  0.0  0.0  0.0  0.0  0.0  0.0   \n",
       "\n",
       "       7  ...   4086  4087  4088  4089  4090  4091  4092  4093  4094  4095  \n",
       "631  0.0  ...    0.0   0.0   0.0   0.0   0.0   0.0   0.0   0.0   0.0   0.0  \n",
       "628  0.0  ...    0.0   0.0   0.0   0.0   0.0   0.0   0.0   0.0   0.0   0.0  \n",
       "618  0.0  ...    0.0   0.0   0.0   0.0   0.0   0.0   0.0   0.0   0.0   0.0  \n",
       "406  0.0  ...    0.0   0.0   0.0   0.0   0.0   0.0   0.0   0.0   0.0   0.0  \n",
       "608  0.0  ...    0.0   0.0   0.0   0.0   0.0   0.0   0.0   0.0   0.0   0.0  \n",
       "2    0.0  ...    0.0   0.0   0.0   0.0   0.0   0.0   0.0   0.0   0.0   0.0  \n",
       "679  0.0  ...    0.0   0.0   0.0   0.0   0.0   0.0   0.0   0.0   0.0   0.0  \n",
       "464  0.0  ...    0.0   0.0   0.0   0.0   0.0   0.0   0.0   0.0   0.0   0.0  \n",
       "617  0.0  ...    0.0   0.0   0.0   0.0   0.0   0.0   0.0   0.0   0.0   0.0  \n",
       "125  0.0  ...    0.0   0.0   0.0   0.0   0.0   0.0   0.0   0.0   0.0   0.0  \n",
       "28   0.0  ...    0.0   0.0   0.0   0.0   0.0   0.0   0.0   0.0   0.0   0.0  \n",
       "\n",
       "[11 rows x 4098 columns]"
      ]
     },
     "execution_count": 17,
     "metadata": {},
     "output_type": "execute_result"
    }
   ],
   "source": [
    "df2 = train[train[\"343\"] == 1]\n",
    "df2"
   ]
  },
  {
   "cell_type": "code",
   "execution_count": null,
   "metadata": {},
   "outputs": [],
   "source": []
  }
 ],
 "metadata": {
  "kernelspec": {
   "display_name": "Python 3",
   "language": "python",
   "name": "python3"
  },
  "language_info": {
   "codemirror_mode": {
    "name": "ipython",
    "version": 3
   },
   "file_extension": ".py",
   "mimetype": "text/x-python",
   "name": "python",
   "nbconvert_exporter": "python",
   "pygments_lexer": "ipython3",
   "version": "3.6.2"
  }
 },
 "nbformat": 4,
 "nbformat_minor": 2
}
