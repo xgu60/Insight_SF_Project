{
 "cells": [
  {
   "cell_type": "markdown",
   "metadata": {},
   "source": [
    "## Insight project: part 3\n",
    "### Logistic regression"
   ]
  },
  {
   "cell_type": "code",
   "execution_count": 16,
   "metadata": {},
   "outputs": [],
   "source": [
    "#apply logistic regression on training data\n",
    "%matplotlib inline\n",
    "import numpy as np\n",
    "import pandas as pd\n",
    "import matplotlib.pyplot as plt\n",
    "from sklearn.decomposition import PCA, TruncatedSVD\n",
    "from sklearn.linear_model import LogisticRegression\n",
    "from sklearn.metrics import make_scorer, precision_score, recall_score, f1_score, roc_curve, roc_auc_score\n",
    "from sklearn.model_selection import cross_val_score, GridSearchCV"
   ]
  },
  {
   "cell_type": "code",
   "execution_count": 17,
   "metadata": {},
   "outputs": [
    {
     "name": "stdout",
     "output_type": "stream",
     "text": [
      "(566, 4098)\n",
      "(142, 4098)\n",
      "              Unnamed: 0  hits    0    1    2    3    4    5    6    7  ...   \\\n",
      "97        Benazepril HCl     0  0.0  0.0  0.0  0.0  0.0  1.0  0.0  0.0  ...    \n",
      "18             Cortisone     0  0.0  0.0  0.0  0.0  0.0  0.0  0.0  0.0  ...    \n",
      "102  Nomifensine maleate     0  0.0  0.0  0.0  0.0  0.0  0.0  0.0  0.0  ...    \n",
      "456            Minoxidil     0  0.0  0.0  1.0  0.0  0.0  0.0  0.0  0.0  ...    \n",
      "541             Levodopa     0  0.0  0.0  0.0  0.0  0.0  0.0  0.0  0.0  ...    \n",
      "\n",
      "     4086  4087  4088  4089  4090  4091  4092  4093  4094  4095  \n",
      "97    0.0   0.0   0.0   0.0   0.0   0.0   0.0   0.0   0.0   0.0  \n",
      "18    0.0   0.0   0.0   0.0   0.0   0.0   0.0   0.0   0.0   0.0  \n",
      "102   0.0   0.0   0.0   0.0   0.0   0.0   0.0   0.0   0.0   0.0  \n",
      "456   0.0   0.0   0.0   0.0   0.0   0.0   0.0   0.0   0.0   0.0  \n",
      "541   0.0   0.0   0.0   0.0   0.0   0.0   0.0   0.0   0.0   0.0  \n",
      "\n",
      "[5 rows x 4098 columns]\n"
     ]
    }
   ],
   "source": [
    "#read data, apply 80:20 split for train vs validation\n",
    "data = pd.read_csv('data/train.csv', index_col=False)\n",
    "data = data.sample(frac=1, random_state=6)\n",
    "train = data[:int(len(data) * 0.8)]\n",
    "val = data[int(len(data) * 0.8):]\n",
    "print(train.shape)\n",
    "print(val.shape)\n",
    "#print(train.head())\n",
    "print(val.head())"
   ]
  },
  {
   "cell_type": "code",
   "execution_count": 18,
   "metadata": {},
   "outputs": [],
   "source": [
    "# #test logistic regression model by change regression stress\n",
    "# rs = np.arange(0.2, 10, 0.5)\n",
    "# val_accuracy = []\n",
    "# val_precision = []\n",
    "# val_recall = []\n",
    "# val_f1 = []\n",
    "# auc_scores = []\n",
    "# for i in rs:  \n",
    "#     lr = LogisticRegression(penalty='l1', C=i, tol=0.01, class_weight={1:1, 0:1})\n",
    "#     lr.fit(train.iloc[:, 2:].values, train.iloc[:, 1].values)    \n",
    "#     val_accuracy.append(lr.score(val.iloc[:, 2:].values, val.iloc[:, 1].values))\n",
    "#     val_pred = lr.predict(val.iloc[:, 2:].values)    \n",
    "#     val_precision.append(precision_score(val.iloc[:, 1].values, val_pred))\n",
    "#     val_recall.append(recall_score(val.iloc[:, 1].values, val_pred))\n",
    "#     val_f1.append(f1_score(val.iloc[:, 1].values, val_pred))\n",
    "#     val_pred_proba = lr.predict_proba(val.iloc[:, 2:].values)\n",
    "#     auc_scores.append(roc_auc_score(val.iloc[:, 1].values, val_pred_proba[:, 1]))\n",
    "\n",
    "# plt.subplots_adjust(left=0.1, bottom=0.1, right=1.5, top=2, wspace=0.3, hspace=0.3)\n",
    "# plt.subplot(231)\n",
    "# plt.title('accuracy')\n",
    "# plt.ylabel('score')\n",
    "# plt.xlabel('regression stress')\n",
    "# plt.scatter(rs, val_accuracy)\n",
    "# plt.subplot(232)\n",
    "# plt.title('precision')\n",
    "# plt.xlabel('regression stress')\n",
    "# plt.scatter(rs, val_precision)\n",
    "# plt.subplot(233)\n",
    "# plt.title('recall')\n",
    "# plt.ylabel('score')\n",
    "# plt.xlabel('regression stress')\n",
    "# plt.scatter(rs, val_recall)\n",
    "# plt.subplot(234)\n",
    "# plt.title('f1_score')\n",
    "# plt.xlabel('regression stress')\n",
    "# plt.scatter(rs, val_f1)\n",
    "# plt.subplot(235)\n",
    "# plt.title('auc_score')\n",
    "# plt.xlabel('regression stress')\n",
    "# plt.scatter(rs, auc_scores)"
   ]
  },
  {
   "cell_type": "code",
   "execution_count": 19,
   "metadata": {},
   "outputs": [],
   "source": [
    "# #test logistic regression model by change weights\n",
    "# weight = np.arange(0.1, 5, 0.1)\n",
    "# val_accuracy = []\n",
    "# val_precision = []\n",
    "# val_recall = []\n",
    "# val_f1 = []\n",
    "# auc_scores = []\n",
    "# for w in weight:  \n",
    "#     lr = LogisticRegression(penalty='l1', C=5, tol=0.01, class_weight={1:w, 0:1})\n",
    "#     lr.fit(train.iloc[:, 2:].values, train.iloc[:, 1].values)    \n",
    "#     val_accuracy.append(lr.score(val.iloc[:, 2:].values, val.iloc[:, 1].values))\n",
    "#     val_pred = lr.predict(val.iloc[:, 2:].values)    \n",
    "#     val_precision.append(precision_score(val.iloc[:, 1].values, val_pred))\n",
    "#     val_recall.append(recall_score(val.iloc[:, 1].values, val_pred))\n",
    "#     val_f1.append(f1_score(val.iloc[:, 1].values, val_pred))\n",
    "#     val_pred_proba = lr.predict_proba(val.iloc[:, 2:].values)\n",
    "#     auc_scores.append(roc_auc_score(val.iloc[:, 1].values, val_pred_proba[:, 1]))\n",
    "\n",
    "# plt.subplots_adjust(left=0.1, bottom=0.1, right=1.5, top=2, wspace=0.3, hspace=0.3)\n",
    "# plt.subplot(231)\n",
    "# plt.title('accuracy')\n",
    "# plt.ylabel('score')\n",
    "# plt.xlabel('weight for positive samples')\n",
    "# plt.scatter(weight, val_accuracy)\n",
    "# plt.subplot(232)\n",
    "# plt.title('precision')\n",
    "# plt.xlabel('weight for positive samples')\n",
    "# plt.scatter(weight, val_precision)\n",
    "# plt.subplot(233)\n",
    "# plt.title('recall')\n",
    "# plt.ylabel('score')\n",
    "# plt.xlabel('weight for positive samples')\n",
    "# plt.scatter(weight, val_recall)\n",
    "# plt.subplot(234)\n",
    "# plt.title('f1_score')\n",
    "# plt.xlabel('weight for positive samples')\n",
    "# plt.scatter(weight, val_f1)\n",
    "# plt.subplot(235)\n",
    "# plt.title('auc_score')\n",
    "# plt.xlabel('weight for positive samples')\n",
    "# plt.scatter(weight, auc_scores)"
   ]
  },
  {
   "cell_type": "code",
   "execution_count": 32,
   "metadata": {},
   "outputs": [
    {
     "name": "stdout",
     "output_type": "stream",
     "text": [
      "auc_score: 0.6955796497080902\n"
     ]
    },
    {
     "data": {
      "text/plain": [
       "[<matplotlib.lines.Line2D at 0x7fa6216aab00>]"
      ]
     },
     "execution_count": 32,
     "metadata": {},
     "output_type": "execute_result"
    },
    {
     "data": {
      "image/png": "[encoded data removed]",
      "text/plain": [
       "<matplotlib.figure.Figure at 0x7fa6217a3550>"
      ]
     },
     "metadata": {},
     "output_type": "display_data"
    }
   ],
   "source": [
    "#roc curve\n",
    "lr = LogisticRegression(penalty='l1', C=10, tol=0.01, class_weight={1:3, 0:1})\n",
    "lr.fit(train.iloc[:, 2:].values, train.iloc[:, 1].values)\n",
    "pred = lr.predict_proba(val.iloc[:, 2:].values)\n",
    "auc_score = roc_auc_score(val.iloc[:, 1].values, pred[:, 1])\n",
    "fpr, tpr, thresholds = roc_curve(val.iloc[:, 1].values, pred[:, 1])\n",
    "\n",
    "print('auc_score: {}'.format(auc_score))\n",
    "\n",
    "#plot auc curve\n",
    "plt.xlabel(\"false positive rate\")\n",
    "plt.ylabel(\"true positive rate\")\n",
    "plt.xlim(0, 1)\n",
    "plt.ylim(0, 1)\n",
    "plt.plot(fpr, tpr, c='b', linewidth=2)\n",
    "plt.plot([0, 1], [0, 1], c='r', linewidth=1)"
   ]
  },
  {
   "cell_type": "code",
   "execution_count": 33,
   "metadata": {},
   "outputs": [
    {
     "data": {
      "text/plain": [
       "(599,)"
      ]
     },
     "execution_count": 33,
     "metadata": {},
     "output_type": "execute_result"
    }
   ],
   "source": [
    "lr.coef_[lr.coef_ != 0].shape"
   ]
  },
  {
   "cell_type": "code",
   "execution_count": 21,
   "metadata": {},
   "outputs": [],
   "source": [
    "# #cross validation of train data\n",
    "# #define the scorer\n",
    "# auc_scorer = make_scorer(roc_auc_score)\n",
    "# f1_scorer = make_scorer(f1_score)\n",
    "# #select regression stress\n",
    "# rs = np.arange(1, 10, 1)\n",
    "# auc_score = []\n",
    "# f1 = []\n",
    "# for i in rs:\n",
    "#     lr = LogisticRegression(penalty='l1', C=i, tol=0.01, class_weight={1:1, 0:1})\n",
    "#     cv_score = cross_val_score(lr, data.iloc[:, 2:].values, data.iloc[:, 1].values, scoring=f1_scorer, cv=3, n_jobs=-1)\n",
    "#     f1.append(np.mean(cv_score))\n",
    "    \n",
    "# plt.scatter(rs, f1)"
   ]
  },
  {
   "cell_type": "code",
   "execution_count": 37,
   "metadata": {},
   "outputs": [
    {
     "name": "stdout",
     "output_type": "stream",
     "text": [
      "auc_score: 0.6886294134000557\n"
     ]
    },
    {
     "data": {
      "text/plain": [
       "[<matplotlib.lines.Line2D at 0x7fa62157efd0>]"
      ]
     },
     "execution_count": 37,
     "metadata": {},
     "output_type": "execute_result"
    },
    {
     "data": {
      "image/png": "[encoded data removed]",
      "text/plain": [
       "<matplotlib.figure.Figure at 0x7fa6217e4828>"
      ]
     },
     "metadata": {},
     "output_type": "display_data"
    }
   ],
   "source": [
    "#lr after svd\n",
    "svd = TruncatedSVD(n_components=200)\n",
    "svd.fit(train.iloc[:, 2:].values)\n",
    "new_train = svd.transform(train.iloc[:, 2:].values)\n",
    "new_val = svd.transform(val.iloc[:, 2:].values)\n",
    "\n",
    "lr = LogisticRegression(penalty='l2', C=1, tol=0.01, class_weight={1:3, 0:1})\n",
    "lr.fit(new_train, train.iloc[:, 1].values)\n",
    "pred = lr.predict_proba(new_val)\n",
    "auc_score = roc_auc_score(val.iloc[:, 1].values, pred[:, 1])\n",
    "fpr, tpr, thresholds = roc_curve(val.iloc[:, 1].values, pred[:, 1])\n",
    "\n",
    "print('auc_score: {}'.format(auc_score))\n",
    "\n",
    "#plot auc curve\n",
    "plt.xlabel(\"false positive rate\")\n",
    "plt.ylabel(\"true positive rate\")\n",
    "plt.xlim(0, 1)\n",
    "plt.ylim(0, 1)\n",
    "plt.plot(fpr, tpr, c='b', linewidth=2)\n",
    "plt.plot([0, 1], [0, 1], c='r', linewidth=1)"
   ]
  },
  {
   "cell_type": "code",
   "execution_count": 38,
   "metadata": {},
   "outputs": [
    {
     "data": {
      "text/plain": [
       "(100,)"
      ]
     },
     "execution_count": 38,
     "metadata": {},
     "output_type": "execute_result"
    }
   ],
   "source": [
    "lr.coef_[lr.coef_ != 0].shape"
   ]
  },
  {
   "cell_type": "code",
   "execution_count": null,
   "metadata": {},
   "outputs": [],
   "source": []
  },
  {
   "cell_type": "code",
   "execution_count": null,
   "metadata": {},
   "outputs": [],
   "source": []
  }
 ],
 "metadata": {
  "kernelspec": {
   "display_name": "Python 3",
   "language": "python",
   "name": "python3"
  },
  "language_info": {
   "codemirror_mode": {
    "name": "ipython",
    "version": 3
   },
   "file_extension": ".py",
   "mimetype": "text/x-python",
   "name": "python",
   "nbconvert_exporter": "python",
   "pygments_lexer": "ipython3",
   "version": "3.6.2"
  }
 },
 "nbformat": 4,
 "nbformat_minor": 2
}
